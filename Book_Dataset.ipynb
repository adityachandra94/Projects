{
 "cells": [
  {
   "cell_type": "markdown",
   "metadata": {},
   "source": [
    "# Working with Dataset"
   ]
  },
  {
   "cell_type": "code",
   "execution_count": 1,
   "metadata": {},
   "outputs": [],
   "source": [
    "import pandas as pd\n",
    "import numpy as np\n",
    "import matplotlib.pyplot as plt\n",
    "%matplotlib inline"
   ]
  },
  {
   "cell_type": "code",
   "execution_count": 2,
   "metadata": {},
   "outputs": [],
   "source": [
    "book = pd.read_csv('Books.csv')          #Read Books.csv and convert it to a pandas dataframe"
   ]
  },
  {
   "cell_type": "code",
   "execution_count": 3,
   "metadata": {},
   "outputs": [
    {
     "data": {
      "text/html": [
       "<div>\n",
       "<style scoped>\n",
       "    .dataframe tbody tr th:only-of-type {\n",
       "        vertical-align: middle;\n",
       "    }\n",
       "\n",
       "    .dataframe tbody tr th {\n",
       "        vertical-align: top;\n",
       "    }\n",
       "\n",
       "    .dataframe thead th {\n",
       "        text-align: right;\n",
       "    }\n",
       "</style>\n",
       "<table border=\"1\" class=\"dataframe\">\n",
       "  <thead>\n",
       "    <tr style=\"text-align: right;\">\n",
       "      <th></th>\n",
       "      <th>bookID</th>\n",
       "      <th>title</th>\n",
       "      <th>authors</th>\n",
       "      <th>average_rating</th>\n",
       "      <th>isbn</th>\n",
       "      <th>isbn13</th>\n",
       "      <th>language_code</th>\n",
       "      <th># num_pages</th>\n",
       "      <th>ratings_count</th>\n",
       "      <th>text_reviews_count</th>\n",
       "    </tr>\n",
       "  </thead>\n",
       "  <tbody>\n",
       "    <tr>\n",
       "      <th>0</th>\n",
       "      <td>1</td>\n",
       "      <td>Harry Potter and the Half-Blood Prince (Harry ...</td>\n",
       "      <td>J.K. Rowling-Mary GrandPré</td>\n",
       "      <td>4.56</td>\n",
       "      <td>439785960</td>\n",
       "      <td>9.780000e+12</td>\n",
       "      <td>eng</td>\n",
       "      <td>652</td>\n",
       "      <td>1944099</td>\n",
       "      <td>26249</td>\n",
       "    </tr>\n",
       "    <tr>\n",
       "      <th>1</th>\n",
       "      <td>2</td>\n",
       "      <td>Harry Potter and the Order of the Phoenix (Har...</td>\n",
       "      <td>J.K. Rowling-Mary GrandPré</td>\n",
       "      <td>4.49</td>\n",
       "      <td>439358078</td>\n",
       "      <td>9.780000e+12</td>\n",
       "      <td>eng</td>\n",
       "      <td>870</td>\n",
       "      <td>1996446</td>\n",
       "      <td>27613</td>\n",
       "    </tr>\n",
       "    <tr>\n",
       "      <th>2</th>\n",
       "      <td>3</td>\n",
       "      <td>Harry Potter and the Sorcerer's Stone (Harry P...</td>\n",
       "      <td>J.K. Rowling-Mary GrandPré</td>\n",
       "      <td>4.47</td>\n",
       "      <td>439554934</td>\n",
       "      <td>9.780000e+12</td>\n",
       "      <td>eng</td>\n",
       "      <td>320</td>\n",
       "      <td>5629932</td>\n",
       "      <td>70390</td>\n",
       "    </tr>\n",
       "    <tr>\n",
       "      <th>3</th>\n",
       "      <td>4</td>\n",
       "      <td>Harry Potter and the Chamber of Secrets (Harry...</td>\n",
       "      <td>J.K. Rowling</td>\n",
       "      <td>4.41</td>\n",
       "      <td>439554896</td>\n",
       "      <td>9.780000e+12</td>\n",
       "      <td>eng</td>\n",
       "      <td>352</td>\n",
       "      <td>6267</td>\n",
       "      <td>272</td>\n",
       "    </tr>\n",
       "    <tr>\n",
       "      <th>4</th>\n",
       "      <td>5</td>\n",
       "      <td>Harry Potter and the Prisoner of Azkaban (Harr...</td>\n",
       "      <td>J.K. Rowling-Mary GrandPré</td>\n",
       "      <td>4.55</td>\n",
       "      <td>043965548X</td>\n",
       "      <td>9.780000e+12</td>\n",
       "      <td>eng</td>\n",
       "      <td>435</td>\n",
       "      <td>2149872</td>\n",
       "      <td>33964</td>\n",
       "    </tr>\n",
       "  </tbody>\n",
       "</table>\n",
       "</div>"
      ],
      "text/plain": [
       "   bookID                                              title  \\\n",
       "0       1  Harry Potter and the Half-Blood Prince (Harry ...   \n",
       "1       2  Harry Potter and the Order of the Phoenix (Har...   \n",
       "2       3  Harry Potter and the Sorcerer's Stone (Harry P...   \n",
       "3       4  Harry Potter and the Chamber of Secrets (Harry...   \n",
       "4       5  Harry Potter and the Prisoner of Azkaban (Harr...   \n",
       "\n",
       "                      authors  average_rating        isbn        isbn13  \\\n",
       "0  J.K. Rowling-Mary GrandPré            4.56   439785960  9.780000e+12   \n",
       "1  J.K. Rowling-Mary GrandPré            4.49   439358078  9.780000e+12   \n",
       "2  J.K. Rowling-Mary GrandPré            4.47   439554934  9.780000e+12   \n",
       "3                J.K. Rowling            4.41   439554896  9.780000e+12   \n",
       "4  J.K. Rowling-Mary GrandPré            4.55  043965548X  9.780000e+12   \n",
       "\n",
       "  language_code  # num_pages  ratings_count  text_reviews_count  \n",
       "0           eng          652        1944099               26249  \n",
       "1           eng          870        1996446               27613  \n",
       "2           eng          320        5629932               70390  \n",
       "3           eng          352           6267                 272  \n",
       "4           eng          435        2149872               33964  "
      ]
     },
     "execution_count": 3,
     "metadata": {},
     "output_type": "execute_result"
    }
   ],
   "source": [
    "book.head(5)                             #Check first 5 rows of the dataframe"
   ]
  },
  {
   "cell_type": "code",
   "execution_count": 4,
   "metadata": {},
   "outputs": [
    {
     "data": {
      "text/html": [
       "<div>\n",
       "<style scoped>\n",
       "    .dataframe tbody tr th:only-of-type {\n",
       "        vertical-align: middle;\n",
       "    }\n",
       "\n",
       "    .dataframe tbody tr th {\n",
       "        vertical-align: top;\n",
       "    }\n",
       "\n",
       "    .dataframe thead th {\n",
       "        text-align: right;\n",
       "    }\n",
       "</style>\n",
       "<table border=\"1\" class=\"dataframe\">\n",
       "  <thead>\n",
       "    <tr style=\"text-align: right;\">\n",
       "      <th></th>\n",
       "      <th>bookID</th>\n",
       "      <th>title</th>\n",
       "      <th>authors</th>\n",
       "      <th>average_rating</th>\n",
       "      <th>isbn</th>\n",
       "      <th>isbn13</th>\n",
       "      <th>language_code</th>\n",
       "      <th># num_pages</th>\n",
       "      <th>ratings_count</th>\n",
       "      <th>text_reviews_count</th>\n",
       "    </tr>\n",
       "  </thead>\n",
       "  <tbody>\n",
       "    <tr>\n",
       "      <th>2979</th>\n",
       "      <td>47604</td>\n",
       "      <td>Sieben Tage Hexerei (Die Welt des Chrestomanci...</td>\n",
       "      <td>Diana Wynne Jones</td>\n",
       "      <td>3.92</td>\n",
       "      <td>3551552150</td>\n",
       "      <td>9.780000e+12</td>\n",
       "      <td>ger</td>\n",
       "      <td>272</td>\n",
       "      <td>17</td>\n",
       "      <td>1</td>\n",
       "    </tr>\n",
       "    <tr>\n",
       "      <th>2980</th>\n",
       "      <td>47648</td>\n",
       "      <td>Abhorsen: La novena puerta (The Abhorsen Trilo...</td>\n",
       "      <td>Garth Nix</td>\n",
       "      <td>4.27</td>\n",
       "      <td>8478715088</td>\n",
       "      <td>9.790000e+12</td>\n",
       "      <td>spa</td>\n",
       "      <td>315</td>\n",
       "      <td>13</td>\n",
       "      <td>2</td>\n",
       "    </tr>\n",
       "    <tr>\n",
       "      <th>2981</th>\n",
       "      <td>47660</td>\n",
       "      <td>Rebeca</td>\n",
       "      <td>Daphne du Maurier</td>\n",
       "      <td>4.22</td>\n",
       "      <td>840146272X</td>\n",
       "      <td>9.790000e+12</td>\n",
       "      <td>spa</td>\n",
       "      <td>544</td>\n",
       "      <td>67</td>\n",
       "      <td>8</td>\n",
       "    </tr>\n",
       "    <tr>\n",
       "      <th>2982</th>\n",
       "      <td>47668</td>\n",
       "      <td>Ensayo sobre la ceguera</td>\n",
       "      <td>José Saramago</td>\n",
       "      <td>4.11</td>\n",
       "      <td>9707311150</td>\n",
       "      <td>9.790000e+12</td>\n",
       "      <td>spa</td>\n",
       "      <td>329</td>\n",
       "      <td>10296</td>\n",
       "      <td>686</td>\n",
       "    </tr>\n",
       "    <tr>\n",
       "      <th>2983</th>\n",
       "      <td>47692</td>\n",
       "      <td>American Gods</td>\n",
       "      <td>Neil Gaiman</td>\n",
       "      <td>4.11</td>\n",
       "      <td>1594970998</td>\n",
       "      <td>9.780000e+12</td>\n",
       "      <td>spa</td>\n",
       "      <td>477</td>\n",
       "      <td>58</td>\n",
       "      <td>6</td>\n",
       "    </tr>\n",
       "  </tbody>\n",
       "</table>\n",
       "</div>"
      ],
      "text/plain": [
       "      bookID                                              title  \\\n",
       "2979   47604  Sieben Tage Hexerei (Die Welt des Chrestomanci...   \n",
       "2980   47648  Abhorsen: La novena puerta (The Abhorsen Trilo...   \n",
       "2981   47660                                             Rebeca   \n",
       "2982   47668                            Ensayo sobre la ceguera   \n",
       "2983   47692                                      American Gods   \n",
       "\n",
       "                authors  average_rating        isbn        isbn13  \\\n",
       "2979  Diana Wynne Jones            3.92  3551552150  9.780000e+12   \n",
       "2980          Garth Nix            4.27  8478715088  9.790000e+12   \n",
       "2981  Daphne du Maurier            4.22  840146272X  9.790000e+12   \n",
       "2982      José Saramago            4.11  9707311150  9.790000e+12   \n",
       "2983        Neil Gaiman            4.11  1594970998  9.780000e+12   \n",
       "\n",
       "     language_code  # num_pages  ratings_count  text_reviews_count  \n",
       "2979           ger          272             17                   1  \n",
       "2980           spa          315             13                   2  \n",
       "2981           spa          544             67                   8  \n",
       "2982           spa          329          10296                 686  \n",
       "2983           spa          477             58                   6  "
      ]
     },
     "execution_count": 4,
     "metadata": {},
     "output_type": "execute_result"
    }
   ],
   "source": [
    "book.tail(5)                  #Check last 5 rows of the dataframe"
   ]
  },
  {
   "cell_type": "code",
   "execution_count": 5,
   "metadata": {},
   "outputs": [
    {
     "data": {
      "text/html": [
       "<div>\n",
       "<style scoped>\n",
       "    .dataframe tbody tr th:only-of-type {\n",
       "        vertical-align: middle;\n",
       "    }\n",
       "\n",
       "    .dataframe tbody tr th {\n",
       "        vertical-align: top;\n",
       "    }\n",
       "\n",
       "    .dataframe thead th {\n",
       "        text-align: right;\n",
       "    }\n",
       "</style>\n",
       "<table border=\"1\" class=\"dataframe\">\n",
       "  <thead>\n",
       "    <tr style=\"text-align: right;\">\n",
       "      <th></th>\n",
       "      <th>bookID</th>\n",
       "      <th>average_rating</th>\n",
       "      <th>isbn13</th>\n",
       "      <th># num_pages</th>\n",
       "      <th>ratings_count</th>\n",
       "      <th>text_reviews_count</th>\n",
       "    </tr>\n",
       "  </thead>\n",
       "  <tbody>\n",
       "    <tr>\n",
       "      <th>count</th>\n",
       "      <td>2984.000000</td>\n",
       "      <td>2984.000000</td>\n",
       "      <td>2.984000e+03</td>\n",
       "      <td>2984.000000</td>\n",
       "      <td>2.984000e+03</td>\n",
       "      <td>2984.000000</td>\n",
       "    </tr>\n",
       "    <tr>\n",
       "      <th>mean</th>\n",
       "      <td>10368.521113</td>\n",
       "      <td>3.949082</td>\n",
       "      <td>9.765510e+12</td>\n",
       "      <td>356.523458</td>\n",
       "      <td>3.014165e+04</td>\n",
       "      <td>781.101542</td>\n",
       "    </tr>\n",
       "    <tr>\n",
       "      <th>std</th>\n",
       "      <td>13105.129611</td>\n",
       "      <td>0.337586</td>\n",
       "      <td>3.865607e+11</td>\n",
       "      <td>246.403824</td>\n",
       "      <td>1.799118e+05</td>\n",
       "      <td>3351.413228</td>\n",
       "    </tr>\n",
       "    <tr>\n",
       "      <th>min</th>\n",
       "      <td>1.000000</td>\n",
       "      <td>0.000000</td>\n",
       "      <td>2.004913e+10</td>\n",
       "      <td>0.000000</td>\n",
       "      <td>0.000000e+00</td>\n",
       "      <td>0.000000</td>\n",
       "    </tr>\n",
       "    <tr>\n",
       "      <th>25%</th>\n",
       "      <td>2168.750000</td>\n",
       "      <td>3.780000</td>\n",
       "      <td>9.780000e+12</td>\n",
       "      <td>198.000000</td>\n",
       "      <td>3.300000e+01</td>\n",
       "      <td>3.000000</td>\n",
       "    </tr>\n",
       "    <tr>\n",
       "      <th>50%</th>\n",
       "      <td>4690.000000</td>\n",
       "      <td>3.960000</td>\n",
       "      <td>9.780000e+12</td>\n",
       "      <td>304.000000</td>\n",
       "      <td>3.085000e+02</td>\n",
       "      <td>24.000000</td>\n",
       "    </tr>\n",
       "    <tr>\n",
       "      <th>75%</th>\n",
       "      <td>12941.250000</td>\n",
       "      <td>4.150000</td>\n",
       "      <td>9.780000e+12</td>\n",
       "      <td>450.000000</td>\n",
       "      <td>3.625000e+03</td>\n",
       "      <td>199.250000</td>\n",
       "    </tr>\n",
       "    <tr>\n",
       "      <th>max</th>\n",
       "      <td>47692.000000</td>\n",
       "      <td>5.000000</td>\n",
       "      <td>9.790000e+12</td>\n",
       "      <td>3342.000000</td>\n",
       "      <td>5.629932e+06</td>\n",
       "      <td>70390.000000</td>\n",
       "    </tr>\n",
       "  </tbody>\n",
       "</table>\n",
       "</div>"
      ],
      "text/plain": [
       "             bookID  average_rating        isbn13  # num_pages  ratings_count  \\\n",
       "count   2984.000000     2984.000000  2.984000e+03  2984.000000   2.984000e+03   \n",
       "mean   10368.521113        3.949082  9.765510e+12   356.523458   3.014165e+04   \n",
       "std    13105.129611        0.337586  3.865607e+11   246.403824   1.799118e+05   \n",
       "min        1.000000        0.000000  2.004913e+10     0.000000   0.000000e+00   \n",
       "25%     2168.750000        3.780000  9.780000e+12   198.000000   3.300000e+01   \n",
       "50%     4690.000000        3.960000  9.780000e+12   304.000000   3.085000e+02   \n",
       "75%    12941.250000        4.150000  9.780000e+12   450.000000   3.625000e+03   \n",
       "max    47692.000000        5.000000  9.790000e+12  3342.000000   5.629932e+06   \n",
       "\n",
       "       text_reviews_count  \n",
       "count         2984.000000  \n",
       "mean           781.101542  \n",
       "std           3351.413228  \n",
       "min              0.000000  \n",
       "25%              3.000000  \n",
       "50%             24.000000  \n",
       "75%            199.250000  \n",
       "max          70390.000000  "
      ]
     },
     "execution_count": 5,
     "metadata": {},
     "output_type": "execute_result"
    }
   ],
   "source": [
    "book.describe()               #Check basic statistics for all the numerical columns in the data"
   ]
  },
  {
   "cell_type": "code",
   "execution_count": 6,
   "metadata": {},
   "outputs": [
    {
     "data": {
      "text/plain": [
       "bookID                0\n",
       "title                 0\n",
       "authors               0\n",
       "average_rating        0\n",
       "isbn                  0\n",
       "isbn13                0\n",
       "language_code         0\n",
       "# num_pages           0\n",
       "ratings_count         0\n",
       "text_reviews_count    0\n",
       "dtype: int64"
      ]
     },
     "execution_count": 6,
     "metadata": {},
     "output_type": "execute_result"
    }
   ],
   "source": [
    "book.isnull().sum()        #Check if there are any null values in the data"
   ]
  },
  {
   "cell_type": "code",
   "execution_count": 7,
   "metadata": {},
   "outputs": [
    {
     "data": {
      "text/plain": [
       "array(['eng', 'en-US', 'spa', 'fre', 'en-GB', 'ger', 'por', 'jpn', 'ita',\n",
       "       'lat', 'rus', 'tur', 'swe'], dtype=object)"
      ]
     },
     "execution_count": 7,
     "metadata": {},
     "output_type": "execute_result"
    }
   ],
   "source": [
    "book['language_code'].unique()              #Check all the unique entries in language_code column"
   ]
  },
  {
   "cell_type": "code",
   "execution_count": null,
   "metadata": {},
   "outputs": [],
   "source": [
    "#Replace all language code with en-US and en-GB to eng"
   ]
  },
  {
   "cell_type": "code",
   "execution_count": 8,
   "metadata": {},
   "outputs": [],
   "source": [
    "book['language_code'] = book['language_code'].replace(['en-US', 'en-GB'], ['eng', 'eng'])          "
   ]
  },
  {
   "cell_type": "code",
   "execution_count": 9,
   "metadata": {},
   "outputs": [
    {
     "data": {
      "text/plain": [
       "array(['eng', 'spa', 'fre', 'ger', 'por', 'jpn', 'ita', 'lat', 'rus',\n",
       "       'tur', 'swe'], dtype=object)"
      ]
     },
     "execution_count": 9,
     "metadata": {},
     "output_type": "execute_result"
    }
   ],
   "source": [
    "book['language_code'].unique()              #Check if all en-US and en-GB have been have been replaced by eng"
   ]
  },
  {
   "cell_type": "code",
   "execution_count": 10,
   "metadata": {},
   "outputs": [
    {
     "data": {
      "text/html": [
       "<div>\n",
       "<style scoped>\n",
       "    .dataframe tbody tr th:only-of-type {\n",
       "        vertical-align: middle;\n",
       "    }\n",
       "\n",
       "    .dataframe tbody tr th {\n",
       "        vertical-align: top;\n",
       "    }\n",
       "\n",
       "    .dataframe thead th {\n",
       "        text-align: right;\n",
       "    }\n",
       "</style>\n",
       "<table border=\"1\" class=\"dataframe\">\n",
       "  <thead>\n",
       "    <tr style=\"text-align: right;\">\n",
       "      <th></th>\n",
       "      <th>average_rating</th>\n",
       "      <th>ratings_count</th>\n",
       "    </tr>\n",
       "    <tr>\n",
       "      <th>language_code</th>\n",
       "      <th></th>\n",
       "      <th></th>\n",
       "    </tr>\n",
       "  </thead>\n",
       "  <tbody>\n",
       "    <tr>\n",
       "      <th>eng</th>\n",
       "      <td>3.944077</td>\n",
       "      <td>87449469</td>\n",
       "    </tr>\n",
       "    <tr>\n",
       "      <th>fre</th>\n",
       "      <td>3.984354</td>\n",
       "      <td>565321</td>\n",
       "    </tr>\n",
       "    <tr>\n",
       "      <th>ger</th>\n",
       "      <td>3.908109</td>\n",
       "      <td>110392</td>\n",
       "    </tr>\n",
       "    <tr>\n",
       "      <th>ita</th>\n",
       "      <td>3.737368</td>\n",
       "      <td>26064</td>\n",
       "    </tr>\n",
       "    <tr>\n",
       "      <th>jpn</th>\n",
       "      <td>4.264531</td>\n",
       "      <td>3998</td>\n",
       "    </tr>\n",
       "    <tr>\n",
       "      <th>lat</th>\n",
       "      <td>4.346667</td>\n",
       "      <td>329</td>\n",
       "    </tr>\n",
       "    <tr>\n",
       "      <th>por</th>\n",
       "      <td>3.944444</td>\n",
       "      <td>4914</td>\n",
       "    </tr>\n",
       "    <tr>\n",
       "      <th>rus</th>\n",
       "      <td>4.201429</td>\n",
       "      <td>9909</td>\n",
       "    </tr>\n",
       "    <tr>\n",
       "      <th>spa</th>\n",
       "      <td>3.935060</td>\n",
       "      <td>1758510</td>\n",
       "    </tr>\n",
       "    <tr>\n",
       "      <th>swe</th>\n",
       "      <td>3.671667</td>\n",
       "      <td>12921</td>\n",
       "    </tr>\n",
       "    <tr>\n",
       "      <th>tur</th>\n",
       "      <td>4.240000</td>\n",
       "      <td>853</td>\n",
       "    </tr>\n",
       "  </tbody>\n",
       "</table>\n",
       "</div>"
      ],
      "text/plain": [
       "               average_rating  ratings_count\n",
       "language_code                               \n",
       "eng                  3.944077       87449469\n",
       "fre                  3.984354         565321\n",
       "ger                  3.908109         110392\n",
       "ita                  3.737368          26064\n",
       "jpn                  4.264531           3998\n",
       "lat                  4.346667            329\n",
       "por                  3.944444           4914\n",
       "rus                  4.201429           9909\n",
       "spa                  3.935060        1758510\n",
       "swe                  3.671667          12921\n",
       "tur                  4.240000            853"
      ]
     },
     "execution_count": 10,
     "metadata": {},
     "output_type": "execute_result"
    }
   ],
   "source": [
    "book.pivot_table(index = 'language_code', values = ['average_rating', 'ratings_count'], \n",
    "                 aggfunc = {'average_rating':'mean', 'ratings_count':'sum'})"
   ]
  },
  {
   "cell_type": "code",
   "execution_count": 11,
   "metadata": {},
   "outputs": [],
   "source": [
    "book = book[book['text_reviews_count']>20]     #Keep only those book records where number of text reviews are more than 20"
   ]
  },
  {
   "cell_type": "code",
   "execution_count": 12,
   "metadata": {},
   "outputs": [
    {
     "data": {
      "text/plain": [
       "21"
      ]
     },
     "execution_count": 12,
     "metadata": {},
     "output_type": "execute_result"
    }
   ],
   "source": [
    "book['text_reviews_count'].min()        #check if there is any record with review count less than 20"
   ]
  },
  {
   "cell_type": "code",
   "execution_count": 13,
   "metadata": {},
   "outputs": [],
   "source": [
    "language = list(book['language_code'].unique())"
   ]
  },
  {
   "cell_type": "code",
   "execution_count": 14,
   "metadata": {},
   "outputs": [
    {
     "data": {
      "text/plain": [
       "['eng', 'fre', 'spa', 'jpn', 'ger', 'ita', 'por', 'lat', 'rus', 'swe', 'tur']"
      ]
     },
     "execution_count": 14,
     "metadata": {},
     "output_type": "execute_result"
    }
   ],
   "source": [
    "language"
   ]
  },
  {
   "cell_type": "code",
   "execution_count": 15,
   "metadata": {},
   "outputs": [],
   "source": [
    "lcount = []\n",
    "for lang in language:\n",
    "    lcount.append(list(book[book['language_code'] == lang][['language_code']].count()))"
   ]
  },
  {
   "cell_type": "code",
   "execution_count": 16,
   "metadata": {},
   "outputs": [
    {
     "data": {
      "text/plain": [
       "[[1362], [42], [102], [1], [16], [4], [4], [1], [1], [3], [1]]"
      ]
     },
     "execution_count": 16,
     "metadata": {},
     "output_type": "execute_result"
    }
   ],
   "source": [
    "lcount        #Note that lcount is list of lists"
   ]
  },
  {
   "cell_type": "code",
   "execution_count": 17,
   "metadata": {},
   "outputs": [],
   "source": [
    "lang_count = []\n",
    "for l in range(0, len(lcount)):\n",
    "    lang_count.append(lcount[l][0])"
   ]
  },
  {
   "cell_type": "code",
   "execution_count": 18,
   "metadata": {},
   "outputs": [
    {
     "data": {
      "text/plain": [
       "[1362, 42, 102, 1, 16, 4, 4, 1, 1, 3, 1]"
      ]
     },
     "execution_count": 18,
     "metadata": {},
     "output_type": "execute_result"
    }
   ],
   "source": [
    "lang_count        #Now lang_count is a normal list"
   ]
  },
  {
   "cell_type": "code",
   "execution_count": 19,
   "metadata": {},
   "outputs": [],
   "source": [
    "plt.style.use(\"seaborn-notebook\")     #Set a style for figures"
   ]
  },
  {
   "cell_type": "code",
   "execution_count": 20,
   "metadata": {},
   "outputs": [
    {
     "data": {
      "text/plain": [
       "Text(0,0.5,'Count')"
      ]
     },
     "execution_count": 20,
     "metadata": {},
     "output_type": "execute_result"
    },
    {
     "data": {
      "image/png": "[encoded data removed]",
      "text/plain": [
       "<matplotlib.figure.Figure at 0x294ec591a20>"
      ]
     },
     "metadata": {},
     "output_type": "display_data"
    }
   ],
   "source": [
    "plt.bar(language, lang_count)\n",
    "plt.title('Count of books per language')\n",
    "plt.xlabel('Language')\n",
    "plt.ylabel('Count')"
   ]
  },
  {
   "cell_type": "code",
   "execution_count": 21,
   "metadata": {},
   "outputs": [
    {
     "data": {
      "text/plain": [
       "Text(0.5,1,'Number of books per language')"
      ]
     },
     "execution_count": 21,
     "metadata": {},
     "output_type": "execute_result"
    },
    {
     "data": {
      "image/png": "[encoded data removed]",
      "text/plain": [
       "<matplotlib.figure.Figure at 0x294ec949470>"
      ]
     },
     "metadata": {},
     "output_type": "display_data"
    }
   ],
   "source": [
    "plt.style.use(\"seaborn-poster\") \n",
    "plt.pie(lang_count[:4], labels = language[:4], startangle=190)\n",
    "plt.legend(title = 'Languages', loc = 'best')\n",
    "plt.axis('equal')\n",
    "plt.title('Number of books per language')"
   ]
  },
  {
   "cell_type": "code",
   "execution_count": 22,
   "metadata": {},
   "outputs": [
    {
     "data": {
      "text/plain": [
       "Text(0,0.5,'Frequency')"
      ]
     },
     "execution_count": 22,
     "metadata": {},
     "output_type": "execute_result"
    },
    {
     "data": {
      "image/png": "[encoded data removed]",
      "text/plain": [
       "<matplotlib.figure.Figure at 0x294eccdd7f0>"
      ]
     },
     "metadata": {},
     "output_type": "display_data"
    }
   ],
   "source": [
    "plt.style.use(\"seaborn-notebook\") \n",
    "plt.hist(book['average_rating'], bins = 25)\n",
    "plt.title('Histogram of Book Rating')\n",
    "plt.xlabel('Average Rating')\n",
    "plt.ylabel('Frequency')"
   ]
  },
  {
   "cell_type": "code",
   "execution_count": 23,
   "metadata": {},
   "outputs": [
    {
     "data": {
      "text/plain": [
       "Text(0,0.5,'Number of Pages in the Book')"
      ]
     },
     "execution_count": 23,
     "metadata": {},
     "output_type": "execute_result"
    },
    {
     "data": {
      "image/png": "[encoded data removed]",
      "text/plain": [
       "<matplotlib.figure.Figure at 0x294ecd42e10>"
      ]
     },
     "metadata": {},
     "output_type": "display_data"
    }
   ],
   "source": [
    "plt.scatter(x = book['average_rating'], y = book['# num_pages'], s = 50)\n",
    "plt.title('Scatterplot of Average Rating and Number of pages in the book')\n",
    "plt.xlabel('Average Rating')\n",
    "plt.ylabel('Number of Pages in the Book')"
   ]
  },
  {
   "cell_type": "code",
   "execution_count": 24,
   "metadata": {},
   "outputs": [
    {
     "data": {
      "text/plain": [
       "Text(0.5,0,'Rating')"
      ]
     },
     "execution_count": 24,
     "metadata": {},
     "output_type": "execute_result"
    },
    {
     "data": {
      "image/png": "[encoded data removed]",
      "text/plain": [
       "<matplotlib.figure.Figure at 0x294ed1328d0>"
      ]
     },
     "metadata": {},
     "output_type": "display_data"
    }
   ],
   "source": [
    "plt.style.use(\"seaborn-notebook\")\n",
    "plt.boxplot(book['average_rating'], labels = ['Book Rating'], sym = 'rs', vert = False)  #vert = False makes box plot horizontal\n",
    "plt.title('Box Plot of Average Book Rating')\n",
    "plt.xlabel('Rating')                                                    "
   ]
  },
  {
   "cell_type": "code",
   "execution_count": null,
   "metadata": {},
   "outputs": [],
   "source": []
  },
  {
   "cell_type": "code",
   "execution_count": null,
   "metadata": {},
   "outputs": [],
   "source": []
  }
 ],
 "metadata": {
  "kernelspec": {
   "display_name": "Python 3",
   "language": "python",
   "name": "python3"
  },
  "language_info": {
   "codemirror_mode": {
    "name": "ipython",
    "version": 3
   },
   "file_extension": ".py",
   "mimetype": "text/x-python",
   "name": "python",
   "nbconvert_exporter": "python",
   "pygments_lexer": "ipython3",
   "version": "3.6.4"
  }
 },
 "nbformat": 4,
 "nbformat_minor": 2
}
